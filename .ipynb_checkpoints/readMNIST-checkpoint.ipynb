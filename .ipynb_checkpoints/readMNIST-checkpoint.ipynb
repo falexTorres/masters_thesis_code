{
 "cells": [
  {
   "cell_type": "code",
   "execution_count": null,
   "metadata": {
    "collapsed": true
   },
   "outputs": [],
   "source": [
    "from struct import unpack\n",
    "from PIL import Image\n",
    "from numpy import zeros, uint8, array_str\n",
    "import scipy.misc as smp\n",
    "import gzip\n",
    "import matplotlib.pyplot as plt\n",
    "import matplotlib.cm as cm"
   ]
  },
  {
   "cell_type": "code",
   "execution_count": null,
   "metadata": {
    "collapsed": true
   },
   "outputs": [],
   "source": [
    "def get_labeled_data(imageFile, labelFile):\n",
    "    # unzip and open files in binary mode\n",
    "    images = gzip.open(imageFile, 'rb')\n",
    "    labels = gzip.open(labelFile, 'rb')\n",
    "\n",
    "    # Read binary data,\n",
    "    # currently in Big\n",
    "    # Endian format.\n",
    "    # Data is an 8-bit unsigned\n",
    "    # integer.\n",
    "\n",
    "    # get image metadata\n",
    "    images.read(4) # skip magic_number\n",
    "    number_of_images = images.read(4)\n",
    "    number_of_images = unpack('>I', number_of_images)[0]\n",
    "    rows = images.read(4)\n",
    "    rows = unpack('>I', rows)[0]\n",
    "    cols = images.read(4)\n",
    "    cols = unpack('>I', cols)[0]\n",
    "\n",
    "    # get label metadata\n",
    "    labels.read(4) # skip magic_number\n",
    "    number_of_labels = labels.read(4)\n",
    "    number_of_labels = unpack('>I', number_of_labels)[0]\n",
    "\n",
    "    if number_of_images != number_of_labels:\n",
    "        raise Exception('number of labels did not match number of images')\n",
    "    N = number_of_images\n",
    "\n",
    "    # get the Data\n",
    "\n",
    "    # initialize image array\n",
    "    x = zeros((N, rows, cols), dtype=uint8)\n",
    "    # initialize label array\n",
    "    y = zeros((N, 1), dtype=uint8) # initialize label array\n",
    "\n",
    "    for i in range(N):\n",
    "        for row in range(rows):\n",
    "            for col in range(cols):\n",
    "                tmp_pixel = images.read(1) # pixel is a single byte\n",
    "                tmp_pixel = unpack('>B', tmp_pixel)[0]\n",
    "                x[row][col] = tmp_pixel\n",
    "        tmp_label = labels.read(1)\n",
    "        y[i] = unpack('>B', tmp_label)[0]\n",
    "\n",
    "    return x, y\n"
   ]
  },
  {
   "cell_type": "code",
   "execution_count": null,
   "metadata": {
    "collapsed": true
   },
   "outputs": [],
   "source": [
    "# call the function and show the image/labels\n",
    "images, labels = get_labeled_data('train-images-idx3-ubyte.gz', 'train-labels-idx1-ubyte.gz')"
   ]
  },
  {
   "cell_type": "code",
   "execution_count": null,
   "metadata": {
    "collapsed": true
   },
   "outputs": [],
   "source": [
    "label = \"label: \" + str(labels)\n",
    "plt.xlabel(label)\n",
    "plt.imshow(images, cmap=cm.binary)\n",
    "plt.show()"
   ]
  },
  {
   "cell_type": "code",
   "execution_count": null,
   "metadata": {
    "collapsed": true
   },
   "outputs": [],
   "source": []
  }
 ],
 "metadata": {
  "kernelspec": {
   "display_name": "Python 3",
   "language": "python",
   "name": "python3"
  },
  "language_info": {
   "codemirror_mode": {
    "name": "ipython",
    "version": 3
   },
   "file_extension": ".py",
   "mimetype": "text/x-python",
   "name": "python",
   "nbconvert_exporter": "python",
   "pygments_lexer": "ipython3",
   "version": "3.5.0"
  }
 },
 "nbformat": 4,
 "nbformat_minor": 1
}
