{
 "cells": [
  {
   "cell_type": "code",
   "execution_count": null,
   "metadata": {
    "collapsed": false
   },
   "outputs": [],
   "source": [
    "import matplotlib\n",
    "import matplotlib.pyplot as plt\n",
    "import matplotlib.cm as cm\n",
    "\n",
    "import numpy as np\n",
    "import theano\n",
    "\n",
    "import lasagne\n",
    "from lasagne import layers\n",
    "from lasagne.updates import nesterov_momentum\n",
    "\n",
    "from nolearn.lasagne import NeuralNet\n",
    "from nolearn.lasagne import visualize\n",
    "\n",
    "from sklearn.metrics import classification_report\n",
    "from sklearn.metrics import confusion_matrix\n",
    "\n",
    "from readMNIST import get_labeled_data"
   ]
  },
  {
   "cell_type": "code",
   "execution_count": null,
   "metadata": {
    "collapsed": true
   },
   "outputs": [],
   "source": [
    "# define ConvNet architecture\n",
    "net1 = NeuralNet(\n",
    "    layers = [('input', layers.InputLayer),\n",
    "              ('conv2d1', layers.Conv2DLayer),\n",
    "              ('maxpool1', layers.MaxPool2DLayer),\n",
    "              ('conv2d2', layers.Conv2DLayer),\n",
    "              ('maxpool2', layers.MaxPool2DLayer),\n",
    "              ('dropout1', layers.DropoutLayer),\n",
    "              ('dense', layers.DenseLayer),\n",
    "              ('dropout2', layers.DropoutLayer),\n",
    "              ('output', layers.DenseLayer)],\n",
    "    # input layer:\n",
    "    # 28x28 image with one color dimension\n",
    "    # (not sure what the first argument is tho)\n",
    "    input_shape = (None, 1, 28, 28),\n",
    "\n",
    "    # layer conv2d1\n",
    "    conv2d1_num_filters = 32,\n",
    "    conv2d1_filter_size = (5, 5),\n",
    "    conv2d1_nonlinearity = lasagne.nonlinearities.rectify,\n",
    "    conv2d1_W = lasagne.init.GlorotUniform(),\n",
    "\n",
    "    # layer maxpool1\n",
    "    maxpool1_pool_size = (2, 2),\n",
    "\n",
    "    # layer conv2d2\n",
    "    conv2d2_num_filters = 32,\n",
    "    conv2d2_filter_size = (5, 5),\n",
    "    conv2d2_nonlinearity = lasagne.nonlinearities.rectify,\n",
    "\n",
    "    # layer maxpool2\n",
    "    maxpool2_pool_size = (2, 2),\n",
    "\n",
    "    # dropout1\n",
    "    dropout1_p = 0.5,\n",
    "\n",
    "    # dense\n",
    "    dense_num_units = 256,\n",
    "    dense_nonlinearity = lasagne.nonlinearities.rectify,\n",
    "\n",
    "    # dropout2\n",
    "    dropout2_p = 0.5,\n",
    "\n",
    "    #output\n",
    "    output_nonlinearity = lasagne.nonlinearities.softmax,\n",
    "    output_num_units = 10,\n",
    "\n",
    "    # optimization method params\n",
    "    update = nesterov_momentum,\n",
    "    update_learning_rate = 0.01,\n",
    "    update_momentum = 0.9,\n",
    "    max_epochs = 10,\n",
    "    verbose = 1\n",
    ")\n"
   ]
  },
  {
   "cell_type": "code",
   "execution_count": null,
   "metadata": {
    "collapsed": true
   },
   "outputs": [],
   "source": [
    "# train the network\n",
    "imageFile = 'train-images-idx3-ubyte.gz'\n",
    "labelFile = 'train-labels-idx1-ubyte.gz'"
   ]
  },
  {
   "cell_type": "code",
   "execution_count": null,
   "metadata": {
    "collapsed": true
   },
   "outputs": [],
   "source": [
    "X_train, y_train = get_labeled_data(imageFile, labelFile)\n",
    "nn = net1.fit(X_train, y_train)"
   ]
  }
 ],
 "metadata": {
  "kernelspec": {
   "display_name": "Python 3",
   "language": "python",
   "name": "python3"
  },
  "language_info": {
   "codemirror_mode": {
    "name": "ipython",
    "version": 3
   },
   "file_extension": ".py",
   "mimetype": "text/x-python",
   "name": "python",
   "nbconvert_exporter": "python",
   "pygments_lexer": "ipython3",
   "version": "3.5.0"
  }
 },
 "nbformat": 4,
 "nbformat_minor": 1
}
